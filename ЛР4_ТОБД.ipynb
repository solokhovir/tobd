{
  "metadata": {
    "kernelspec": {
      "display_name": "Python 3",
      "language": "python",
      "name": "python3"
    },
    "language_info": {
      "name": "python",
      "version": "3.6.6",
      "mimetype": "text/x-python",
      "codemirror_mode": {
        "name": "ipython",
        "version": 3
      },
      "pygments_lexer": "ipython3",
      "nbconvert_exporter": "python",
      "file_extension": ".py"
    },
    "colab": {
      "provenance": []
    }
  },
  "nbformat_minor": 0,
  "nbformat": 4,
  "cells": [
    {
      "cell_type": "markdown",
      "source": [
        "# Разведочный анализ данных (exploratory data analysis, EDA)\n",
        "\n",
        "Задачи, которые ставятся перед аналитиками, достаточно разнообразны. Однако всё начинается с данных. \n",
        "\n",
        "В этом курсе мы не будем касаться бизнес-составляющей анализа данных, но при этом нужно понимать, что данные не берутся \"из воздуха\". Как и задачи, связанные с ними. В книге [Билла Фрэнкса](https://play.google.com/store/books/details/%D0%91_%D0%A4%D1%80%D1%8D%D0%BD%D0%BA%D1%81_%D0%A0%D0%B5%D0%B2%D0%BE%D0%BB%D1%8E%D1%86%D0%B8%D1%8F_%D0%B2_%D0%B0%D0%BD%D0%B0%D0%BB%D0%B8%D1%82%D0%B8%D0%BA%D0%B5_%D0%9A%D0%B0%D0%BA_%D0%B2_%D1%8D%D0%BF%D0%BE%D1%85%D1%83_Big_Dat?id=yPvkDQAAQBAJ) об операционной аналитике автор акцентирует внимание на том, что непродуманные инвестиции в сбор и хранение данных по принципу \"а вдруг потом пригодятся\" зачастую себя не оправдывают. Только после того, как поставлена определённая цель, можно начинать процесс сбора (или, возможно, покупки) и анализа данных.\n",
        "\n",
        "К сожалению, на практике данные в \"сыром\" виде обычно малопригодны для анализа. Процесс подготовки и очистки данных (препроцессинг, англ. data preparation, pre-processing, data cleaning) может быть **весьма трудоёмким** и по времени занимать больше, чем собственно построение и валидация моделей на основе данных. Выделим некоторые составляющие этого процесса:\n",
        "\n",
        "- data specification (понимание данных)\n",
        "- data editing (редактирование данных, исправление ошибок --- ручное, автоматическое или их комбинация)\n",
        "- работа с пропущенными значениями\n",
        "- нормализация\n",
        "- feature extraction and selection (создание и отбор признаков)\n",
        "\n",
        "В результате получаем данные в удобном для анализа формате, как правило, табличном. Таблица (или датафрейм) имеет структуру \"объекты-признаки\": строки соответствуют отдельным сущностям (объектам, примерам, экземплярам), а столбцы --- атрибутам этих сущностей (признакам)."
      ],
      "metadata": {
        "_uuid": "217a5a64e3cf53f4c9782083692c9989f83374d9",
        "id": "88AGNHxI2w-G"
      }
    },
    {
      "cell_type": "code",
      "source": [
        "# Импорт нужных библиотек\n",
        "import numpy as np \n",
        "import pandas as pd \n",
        "import matplotlib.pyplot as plt\n",
        "import seaborn as sns\n",
        "sns.set(); # более красивый внешний вид графиков по умолчанию"
      ],
      "metadata": {
        "_uuid": "8f2839f25d086af736a60e9eeb907d3b93b6e0e5",
        "_cell_guid": "b1076dfc-b9ad-4769-8c92-a6c4dae69d19",
        "trusted": true,
        "id": "Q_Hdvize2w-K"
      },
      "execution_count": null,
      "outputs": []
    },
    {
      "cell_type": "code",
      "source": [
        "! unzip cardio_train.csv.zip"
      ],
      "metadata": {
        "colab": {
          "base_uri": "https://localhost:8080/"
        },
        "id": "izkcQvZO3OL9",
        "outputId": "ac66abde-4aa0-4ae3-f505-780a959b4abb"
      },
      "execution_count": null,
      "outputs": [
        {
          "output_type": "stream",
          "name": "stdout",
          "text": [
            "Archive:  cardio_train.csv.zip\n",
            "  inflating: cardio_train.csv        \n"
          ]
        }
      ]
    },
    {
      "cell_type": "code",
      "source": [
        "# df = pd.read_csv('../input/cardio_train.csv', sep=';')\n",
        "df = pd.read_csv('cardio_train.csv', sep=';')"
      ],
      "metadata": {
        "_uuid": "dd72b3933eb33d237b9a621c8f70122ac355385e",
        "trusted": true,
        "id": "dLIB0mek2w-L"
      },
      "execution_count": null,
      "outputs": []
    },
    {
      "cell_type": "code",
      "source": [
        "df.head(10)"
      ],
      "metadata": {
        "trusted": true,
        "id": "BBE-iBl12w-L",
        "colab": {
          "base_uri": "https://localhost:8080/",
          "height": 363
        },
        "outputId": "1a2cf004-e64d-43c6-b0bc-2701e7a25037"
      },
      "execution_count": null,
      "outputs": [
        {
          "output_type": "execute_result",
          "data": {
            "text/plain": [
              "   id    age  gender  height  weight  ap_hi  ap_lo  cholesterol  gluc  smoke  \\\n",
              "0   0  18393       2     168    62.0    110     80            1     1      0   \n",
              "1   1  20228       1     156    85.0    140     90            3     1      0   \n",
              "2   2  18857       1     165    64.0    130     70            3     1      0   \n",
              "3   3  17623       2     169    82.0    150    100            1     1      0   \n",
              "4   4  17474       1     156    56.0    100     60            1     1      0   \n",
              "5   8  21914       1     151    67.0    120     80            2     2      0   \n",
              "6   9  22113       1     157    93.0    130     80            3     1      0   \n",
              "7  12  22584       2     178    95.0    130     90            3     3      0   \n",
              "8  13  17668       1     158    71.0    110     70            1     1      0   \n",
              "9  14  19834       1     164    68.0    110     60            1     1      0   \n",
              "\n",
              "   alco  active  cardio  \n",
              "0     0       1       0  \n",
              "1     0       1       1  \n",
              "2     0       0       1  \n",
              "3     0       1       1  \n",
              "4     0       0       0  \n",
              "5     0       0       0  \n",
              "6     0       1       0  \n",
              "7     0       1       1  \n",
              "8     0       1       0  \n",
              "9     0       0       0  "
            ],
            "text/html": [
              "\n",
              "  <div id=\"df-3e0e4305-994d-43d1-9753-de67dc9d427d\">\n",
              "    <div class=\"colab-df-container\">\n",
              "      <div>\n",
              "<style scoped>\n",
              "    .dataframe tbody tr th:only-of-type {\n",
              "        vertical-align: middle;\n",
              "    }\n",
              "\n",
              "    .dataframe tbody tr th {\n",
              "        vertical-align: top;\n",
              "    }\n",
              "\n",
              "    .dataframe thead th {\n",
              "        text-align: right;\n",
              "    }\n",
              "</style>\n",
              "<table border=\"1\" class=\"dataframe\">\n",
              "  <thead>\n",
              "    <tr style=\"text-align: right;\">\n",
              "      <th></th>\n",
              "      <th>id</th>\n",
              "      <th>age</th>\n",
              "      <th>gender</th>\n",
              "      <th>height</th>\n",
              "      <th>weight</th>\n",
              "      <th>ap_hi</th>\n",
              "      <th>ap_lo</th>\n",
              "      <th>cholesterol</th>\n",
              "      <th>gluc</th>\n",
              "      <th>smoke</th>\n",
              "      <th>alco</th>\n",
              "      <th>active</th>\n",
              "      <th>cardio</th>\n",
              "    </tr>\n",
              "  </thead>\n",
              "  <tbody>\n",
              "    <tr>\n",
              "      <th>0</th>\n",
              "      <td>0</td>\n",
              "      <td>18393</td>\n",
              "      <td>2</td>\n",
              "      <td>168</td>\n",
              "      <td>62.0</td>\n",
              "      <td>110</td>\n",
              "      <td>80</td>\n",
              "      <td>1</td>\n",
              "      <td>1</td>\n",
              "      <td>0</td>\n",
              "      <td>0</td>\n",
              "      <td>1</td>\n",
              "      <td>0</td>\n",
              "    </tr>\n",
              "    <tr>\n",
              "      <th>1</th>\n",
              "      <td>1</td>\n",
              "      <td>20228</td>\n",
              "      <td>1</td>\n",
              "      <td>156</td>\n",
              "      <td>85.0</td>\n",
              "      <td>140</td>\n",
              "      <td>90</td>\n",
              "      <td>3</td>\n",
              "      <td>1</td>\n",
              "      <td>0</td>\n",
              "      <td>0</td>\n",
              "      <td>1</td>\n",
              "      <td>1</td>\n",
              "    </tr>\n",
              "    <tr>\n",
              "      <th>2</th>\n",
              "      <td>2</td>\n",
              "      <td>18857</td>\n",
              "      <td>1</td>\n",
              "      <td>165</td>\n",
              "      <td>64.0</td>\n",
              "      <td>130</td>\n",
              "      <td>70</td>\n",
              "      <td>3</td>\n",
              "      <td>1</td>\n",
              "      <td>0</td>\n",
              "      <td>0</td>\n",
              "      <td>0</td>\n",
              "      <td>1</td>\n",
              "    </tr>\n",
              "    <tr>\n",
              "      <th>3</th>\n",
              "      <td>3</td>\n",
              "      <td>17623</td>\n",
              "      <td>2</td>\n",
              "      <td>169</td>\n",
              "      <td>82.0</td>\n",
              "      <td>150</td>\n",
              "      <td>100</td>\n",
              "      <td>1</td>\n",
              "      <td>1</td>\n",
              "      <td>0</td>\n",
              "      <td>0</td>\n",
              "      <td>1</td>\n",
              "      <td>1</td>\n",
              "    </tr>\n",
              "    <tr>\n",
              "      <th>4</th>\n",
              "      <td>4</td>\n",
              "      <td>17474</td>\n",
              "      <td>1</td>\n",
              "      <td>156</td>\n",
              "      <td>56.0</td>\n",
              "      <td>100</td>\n",
              "      <td>60</td>\n",
              "      <td>1</td>\n",
              "      <td>1</td>\n",
              "      <td>0</td>\n",
              "      <td>0</td>\n",
              "      <td>0</td>\n",
              "      <td>0</td>\n",
              "    </tr>\n",
              "    <tr>\n",
              "      <th>5</th>\n",
              "      <td>8</td>\n",
              "      <td>21914</td>\n",
              "      <td>1</td>\n",
              "      <td>151</td>\n",
              "      <td>67.0</td>\n",
              "      <td>120</td>\n",
              "      <td>80</td>\n",
              "      <td>2</td>\n",
              "      <td>2</td>\n",
              "      <td>0</td>\n",
              "      <td>0</td>\n",
              "      <td>0</td>\n",
              "      <td>0</td>\n",
              "    </tr>\n",
              "    <tr>\n",
              "      <th>6</th>\n",
              "      <td>9</td>\n",
              "      <td>22113</td>\n",
              "      <td>1</td>\n",
              "      <td>157</td>\n",
              "      <td>93.0</td>\n",
              "      <td>130</td>\n",
              "      <td>80</td>\n",
              "      <td>3</td>\n",
              "      <td>1</td>\n",
              "      <td>0</td>\n",
              "      <td>0</td>\n",
              "      <td>1</td>\n",
              "      <td>0</td>\n",
              "    </tr>\n",
              "    <tr>\n",
              "      <th>7</th>\n",
              "      <td>12</td>\n",
              "      <td>22584</td>\n",
              "      <td>2</td>\n",
              "      <td>178</td>\n",
              "      <td>95.0</td>\n",
              "      <td>130</td>\n",
              "      <td>90</td>\n",
              "      <td>3</td>\n",
              "      <td>3</td>\n",
              "      <td>0</td>\n",
              "      <td>0</td>\n",
              "      <td>1</td>\n",
              "      <td>1</td>\n",
              "    </tr>\n",
              "    <tr>\n",
              "      <th>8</th>\n",
              "      <td>13</td>\n",
              "      <td>17668</td>\n",
              "      <td>1</td>\n",
              "      <td>158</td>\n",
              "      <td>71.0</td>\n",
              "      <td>110</td>\n",
              "      <td>70</td>\n",
              "      <td>1</td>\n",
              "      <td>1</td>\n",
              "      <td>0</td>\n",
              "      <td>0</td>\n",
              "      <td>1</td>\n",
              "      <td>0</td>\n",
              "    </tr>\n",
              "    <tr>\n",
              "      <th>9</th>\n",
              "      <td>14</td>\n",
              "      <td>19834</td>\n",
              "      <td>1</td>\n",
              "      <td>164</td>\n",
              "      <td>68.0</td>\n",
              "      <td>110</td>\n",
              "      <td>60</td>\n",
              "      <td>1</td>\n",
              "      <td>1</td>\n",
              "      <td>0</td>\n",
              "      <td>0</td>\n",
              "      <td>0</td>\n",
              "      <td>0</td>\n",
              "    </tr>\n",
              "  </tbody>\n",
              "</table>\n",
              "</div>\n",
              "      <button class=\"colab-df-convert\" onclick=\"convertToInteractive('df-3e0e4305-994d-43d1-9753-de67dc9d427d')\"\n",
              "              title=\"Convert this dataframe to an interactive table.\"\n",
              "              style=\"display:none;\">\n",
              "        \n",
              "  <svg xmlns=\"http://www.w3.org/2000/svg\" height=\"24px\"viewBox=\"0 0 24 24\"\n",
              "       width=\"24px\">\n",
              "    <path d=\"M0 0h24v24H0V0z\" fill=\"none\"/>\n",
              "    <path d=\"M18.56 5.44l.94 2.06.94-2.06 2.06-.94-2.06-.94-.94-2.06-.94 2.06-2.06.94zm-11 1L8.5 8.5l.94-2.06 2.06-.94-2.06-.94L8.5 2.5l-.94 2.06-2.06.94zm10 10l.94 2.06.94-2.06 2.06-.94-2.06-.94-.94-2.06-.94 2.06-2.06.94z\"/><path d=\"M17.41 7.96l-1.37-1.37c-.4-.4-.92-.59-1.43-.59-.52 0-1.04.2-1.43.59L10.3 9.45l-7.72 7.72c-.78.78-.78 2.05 0 2.83L4 21.41c.39.39.9.59 1.41.59.51 0 1.02-.2 1.41-.59l7.78-7.78 2.81-2.81c.8-.78.8-2.07 0-2.86zM5.41 20L4 18.59l7.72-7.72 1.47 1.35L5.41 20z\"/>\n",
              "  </svg>\n",
              "      </button>\n",
              "      \n",
              "  <style>\n",
              "    .colab-df-container {\n",
              "      display:flex;\n",
              "      flex-wrap:wrap;\n",
              "      gap: 12px;\n",
              "    }\n",
              "\n",
              "    .colab-df-convert {\n",
              "      background-color: #E8F0FE;\n",
              "      border: none;\n",
              "      border-radius: 50%;\n",
              "      cursor: pointer;\n",
              "      display: none;\n",
              "      fill: #1967D2;\n",
              "      height: 32px;\n",
              "      padding: 0 0 0 0;\n",
              "      width: 32px;\n",
              "    }\n",
              "\n",
              "    .colab-df-convert:hover {\n",
              "      background-color: #E2EBFA;\n",
              "      box-shadow: 0px 1px 2px rgba(60, 64, 67, 0.3), 0px 1px 3px 1px rgba(60, 64, 67, 0.15);\n",
              "      fill: #174EA6;\n",
              "    }\n",
              "\n",
              "    [theme=dark] .colab-df-convert {\n",
              "      background-color: #3B4455;\n",
              "      fill: #D2E3FC;\n",
              "    }\n",
              "\n",
              "    [theme=dark] .colab-df-convert:hover {\n",
              "      background-color: #434B5C;\n",
              "      box-shadow: 0px 1px 3px 1px rgba(0, 0, 0, 0.15);\n",
              "      filter: drop-shadow(0px 1px 2px rgba(0, 0, 0, 0.3));\n",
              "      fill: #FFFFFF;\n",
              "    }\n",
              "  </style>\n",
              "\n",
              "      <script>\n",
              "        const buttonEl =\n",
              "          document.querySelector('#df-3e0e4305-994d-43d1-9753-de67dc9d427d button.colab-df-convert');\n",
              "        buttonEl.style.display =\n",
              "          google.colab.kernel.accessAllowed ? 'block' : 'none';\n",
              "\n",
              "        async function convertToInteractive(key) {\n",
              "          const element = document.querySelector('#df-3e0e4305-994d-43d1-9753-de67dc9d427d');\n",
              "          const dataTable =\n",
              "            await google.colab.kernel.invokeFunction('convertToInteractive',\n",
              "                                                     [key], {});\n",
              "          if (!dataTable) return;\n",
              "\n",
              "          const docLinkHtml = 'Like what you see? Visit the ' +\n",
              "            '<a target=\"_blank\" href=https://colab.research.google.com/notebooks/data_table.ipynb>data table notebook</a>'\n",
              "            + ' to learn more about interactive tables.';\n",
              "          element.innerHTML = '';\n",
              "          dataTable['output_type'] = 'display_data';\n",
              "          await google.colab.output.renderOutput(dataTable, element);\n",
              "          const docLink = document.createElement('div');\n",
              "          docLink.innerHTML = docLinkHtml;\n",
              "          element.appendChild(docLink);\n",
              "        }\n",
              "      </script>\n",
              "    </div>\n",
              "  </div>\n",
              "  "
            ]
          },
          "metadata": {},
          "execution_count": 5
        }
      ]
    },
    {
      "cell_type": "markdown",
      "source": [
        "# Задания для самостоятельной работы\n",
        "\n",
        "1. Определите количество мужчин и женщин среди испытуемых. Обратите внимание, что способ кодирования переменной gender мы не знаем. Воспользуемся медицинским фактом, а именно: мужчины в среднем выше женщин."
      ],
      "metadata": {
        "id": "BW1wluc-2w-M"
      }
    },
    {
      "cell_type": "code",
      "source": [
        "if df.groupby('gender')['height'].mean()[1] > df.groupby('gender')['height'].mean()[2]:\n",
        "    print('Количество мужчин:', df['gender'].value_counts()[1], '(закодировано цифрой 1).', \n",
        "          'Количество женщин:', df['gender'].value_counts()[2], '(закодировано цифрой 2).')\n",
        "else:\n",
        "    print('Количество мужчин:', df['gender'].value_counts()[2], '(закодировано цифрой 2).',\n",
        "          'Количество женщин:', df['gender'].value_counts()[1], '(закодировано цифрой 1).')\n",
        "    "
      ],
      "metadata": {
        "trusted": true,
        "id": "1NOj6K_t2w-M",
        "colab": {
          "base_uri": "https://localhost:8080/"
        },
        "outputId": "6a64266e-e9ec-40c8-dc02-d299a090938c"
      },
      "execution_count": null,
      "outputs": [
        {
          "output_type": "stream",
          "name": "stdout",
          "text": [
            "Количество мужчин: 24470 (закодировано цифрой 2). Количество женщин: 45530 (закодировано цифрой 1).\n"
          ]
        }
      ]
    },
    {
      "cell_type": "code",
      "source": [
        "m = df['gender'].value_counts()[2]\n",
        "m"
      ],
      "metadata": {
        "trusted": true,
        "id": "5L-6p-Cg2w-M",
        "colab": {
          "base_uri": "https://localhost:8080/"
        },
        "outputId": "259c4303-34d4-40a1-dbeb-3784c71f810e"
      },
      "execution_count": null,
      "outputs": [
        {
          "output_type": "execute_result",
          "data": {
            "text/plain": [
              "24470"
            ]
          },
          "metadata": {},
          "execution_count": 7
        }
      ]
    },
    {
      "cell_type": "code",
      "source": [
        "f = df['gender'].value_counts()[1]\n",
        "f"
      ],
      "metadata": {
        "trusted": true,
        "id": "dEmVNHvG2w-N",
        "colab": {
          "base_uri": "https://localhost:8080/"
        },
        "outputId": "713e2642-b46d-4724-fe0a-bf0b5f81f22d"
      },
      "execution_count": null,
      "outputs": [
        {
          "output_type": "execute_result",
          "data": {
            "text/plain": [
              "45530"
            ]
          },
          "metadata": {},
          "execution_count": 8
        }
      ]
    },
    {
      "cell_type": "markdown",
      "source": [
        "2. Верно ли, что мужчины более склонны к употреблению алкоголя, чем женщины?"
      ],
      "metadata": {
        "id": "M6X53s262w-N"
      }
    },
    {
      "cell_type": "code",
      "source": [
        "f_m_alco = pd.crosstab(df['gender'], df['alco'])\n",
        "f_m_alco"
      ],
      "metadata": {
        "trusted": true,
        "id": "NtxF1G9F2w-N",
        "colab": {
          "base_uri": "https://localhost:8080/",
          "height": 143
        },
        "outputId": "267d8984-05e9-4c9a-9110-f84884a96b34"
      },
      "execution_count": null,
      "outputs": [
        {
          "output_type": "execute_result",
          "data": {
            "text/plain": [
              "alco        0     1\n",
              "gender             \n",
              "1       44369  1161\n",
              "2       21867  2603"
            ],
            "text/html": [
              "\n",
              "  <div id=\"df-22112fdf-26de-4ccd-9160-cc21dcc8e436\">\n",
              "    <div class=\"colab-df-container\">\n",
              "      <div>\n",
              "<style scoped>\n",
              "    .dataframe tbody tr th:only-of-type {\n",
              "        vertical-align: middle;\n",
              "    }\n",
              "\n",
              "    .dataframe tbody tr th {\n",
              "        vertical-align: top;\n",
              "    }\n",
              "\n",
              "    .dataframe thead th {\n",
              "        text-align: right;\n",
              "    }\n",
              "</style>\n",
              "<table border=\"1\" class=\"dataframe\">\n",
              "  <thead>\n",
              "    <tr style=\"text-align: right;\">\n",
              "      <th>alco</th>\n",
              "      <th>0</th>\n",
              "      <th>1</th>\n",
              "    </tr>\n",
              "    <tr>\n",
              "      <th>gender</th>\n",
              "      <th></th>\n",
              "      <th></th>\n",
              "    </tr>\n",
              "  </thead>\n",
              "  <tbody>\n",
              "    <tr>\n",
              "      <th>1</th>\n",
              "      <td>44369</td>\n",
              "      <td>1161</td>\n",
              "    </tr>\n",
              "    <tr>\n",
              "      <th>2</th>\n",
              "      <td>21867</td>\n",
              "      <td>2603</td>\n",
              "    </tr>\n",
              "  </tbody>\n",
              "</table>\n",
              "</div>\n",
              "      <button class=\"colab-df-convert\" onclick=\"convertToInteractive('df-22112fdf-26de-4ccd-9160-cc21dcc8e436')\"\n",
              "              title=\"Convert this dataframe to an interactive table.\"\n",
              "              style=\"display:none;\">\n",
              "        \n",
              "  <svg xmlns=\"http://www.w3.org/2000/svg\" height=\"24px\"viewBox=\"0 0 24 24\"\n",
              "       width=\"24px\">\n",
              "    <path d=\"M0 0h24v24H0V0z\" fill=\"none\"/>\n",
              "    <path d=\"M18.56 5.44l.94 2.06.94-2.06 2.06-.94-2.06-.94-.94-2.06-.94 2.06-2.06.94zm-11 1L8.5 8.5l.94-2.06 2.06-.94-2.06-.94L8.5 2.5l-.94 2.06-2.06.94zm10 10l.94 2.06.94-2.06 2.06-.94-2.06-.94-.94-2.06-.94 2.06-2.06.94z\"/><path d=\"M17.41 7.96l-1.37-1.37c-.4-.4-.92-.59-1.43-.59-.52 0-1.04.2-1.43.59L10.3 9.45l-7.72 7.72c-.78.78-.78 2.05 0 2.83L4 21.41c.39.39.9.59 1.41.59.51 0 1.02-.2 1.41-.59l7.78-7.78 2.81-2.81c.8-.78.8-2.07 0-2.86zM5.41 20L4 18.59l7.72-7.72 1.47 1.35L5.41 20z\"/>\n",
              "  </svg>\n",
              "      </button>\n",
              "      \n",
              "  <style>\n",
              "    .colab-df-container {\n",
              "      display:flex;\n",
              "      flex-wrap:wrap;\n",
              "      gap: 12px;\n",
              "    }\n",
              "\n",
              "    .colab-df-convert {\n",
              "      background-color: #E8F0FE;\n",
              "      border: none;\n",
              "      border-radius: 50%;\n",
              "      cursor: pointer;\n",
              "      display: none;\n",
              "      fill: #1967D2;\n",
              "      height: 32px;\n",
              "      padding: 0 0 0 0;\n",
              "      width: 32px;\n",
              "    }\n",
              "\n",
              "    .colab-df-convert:hover {\n",
              "      background-color: #E2EBFA;\n",
              "      box-shadow: 0px 1px 2px rgba(60, 64, 67, 0.3), 0px 1px 3px 1px rgba(60, 64, 67, 0.15);\n",
              "      fill: #174EA6;\n",
              "    }\n",
              "\n",
              "    [theme=dark] .colab-df-convert {\n",
              "      background-color: #3B4455;\n",
              "      fill: #D2E3FC;\n",
              "    }\n",
              "\n",
              "    [theme=dark] .colab-df-convert:hover {\n",
              "      background-color: #434B5C;\n",
              "      box-shadow: 0px 1px 3px 1px rgba(0, 0, 0, 0.15);\n",
              "      filter: drop-shadow(0px 1px 2px rgba(0, 0, 0, 0.3));\n",
              "      fill: #FFFFFF;\n",
              "    }\n",
              "  </style>\n",
              "\n",
              "      <script>\n",
              "        const buttonEl =\n",
              "          document.querySelector('#df-22112fdf-26de-4ccd-9160-cc21dcc8e436 button.colab-df-convert');\n",
              "        buttonEl.style.display =\n",
              "          google.colab.kernel.accessAllowed ? 'block' : 'none';\n",
              "\n",
              "        async function convertToInteractive(key) {\n",
              "          const element = document.querySelector('#df-22112fdf-26de-4ccd-9160-cc21dcc8e436');\n",
              "          const dataTable =\n",
              "            await google.colab.kernel.invokeFunction('convertToInteractive',\n",
              "                                                     [key], {});\n",
              "          if (!dataTable) return;\n",
              "\n",
              "          const docLinkHtml = 'Like what you see? Visit the ' +\n",
              "            '<a target=\"_blank\" href=https://colab.research.google.com/notebooks/data_table.ipynb>data table notebook</a>'\n",
              "            + ' to learn more about interactive tables.';\n",
              "          element.innerHTML = '';\n",
              "          dataTable['output_type'] = 'display_data';\n",
              "          await google.colab.output.renderOutput(dataTable, element);\n",
              "          const docLink = document.createElement('div');\n",
              "          docLink.innerHTML = docLinkHtml;\n",
              "          element.appendChild(docLink);\n",
              "        }\n",
              "      </script>\n",
              "    </div>\n",
              "  </div>\n",
              "  "
            ]
          },
          "metadata": {},
          "execution_count": 9
        }
      ]
    },
    {
      "cell_type": "code",
      "source": [
        "f_alco = f_m_alco.loc[1][1]/df['gender'].value_counts().loc[1]\n",
        "m_alco = f_m_alco.loc[2][1]/df['gender'].value_counts().loc[2]\n",
        "if f_alco < m_alco:\n",
        "    print('Верно, что мужчины более склонны к употреблению алкоголя, чем женщины')\n",
        "else:\n",
        "    print('Не верно, что мужчины более склонны к употреблению алкоголя, чем женщины')"
      ],
      "metadata": {
        "trusted": true,
        "id": "FDjDjGwT2w-O",
        "colab": {
          "base_uri": "https://localhost:8080/"
        },
        "outputId": "1261de4d-10e2-4777-b83f-eab0d9f42609"
      },
      "execution_count": null,
      "outputs": [
        {
          "output_type": "stream",
          "name": "stdout",
          "text": [
            "Верно, что мужчины более склонны к употреблению алкоголя, чем женщины\n"
          ]
        }
      ]
    },
    {
      "cell_type": "code",
      "source": [
        "f_alco = df[df['gender'] == 1]['alco'].value_counts(normalize=True)[1]\n",
        "f_alco"
      ],
      "metadata": {
        "trusted": true,
        "id": "LZ-qUpPQ2w-O",
        "colab": {
          "base_uri": "https://localhost:8080/"
        },
        "outputId": "ff23f71e-7ebc-4eee-a0e6-92d7f87b6fd3"
      },
      "execution_count": null,
      "outputs": [
        {
          "output_type": "execute_result",
          "data": {
            "text/plain": [
              "0.02549967054689216"
            ]
          },
          "metadata": {},
          "execution_count": 11
        }
      ]
    },
    {
      "cell_type": "code",
      "source": [
        "m_alco = df[df['gender'] == 2]['alco'].value_counts(normalize=True).loc[1]\n",
        "m_alco"
      ],
      "metadata": {
        "trusted": true,
        "id": "RLpLsE4O2w-O",
        "colab": {
          "base_uri": "https://localhost:8080/"
        },
        "outputId": "17a015a0-319b-4423-833f-f3bd40f8c7b5"
      },
      "execution_count": null,
      "outputs": [
        {
          "output_type": "execute_result",
          "data": {
            "text/plain": [
              "0.10637515324887617"
            ]
          },
          "metadata": {},
          "execution_count": 12
        }
      ]
    },
    {
      "cell_type": "code",
      "source": [
        "if f_alco < m_alco:\n",
        "    print('Верно, что мужчины более склонны к употреблению алкоголя, чем женщины')\n",
        "else:\n",
        "    print('Не верно, что мужчины более склонны к употреблению алкоголя, чем женщины')"
      ],
      "metadata": {
        "trusted": true,
        "id": "w22Qav6x2w-O",
        "colab": {
          "base_uri": "https://localhost:8080/"
        },
        "outputId": "42fe5b1a-7f58-4d8c-a64e-963a166485c6"
      },
      "execution_count": null,
      "outputs": [
        {
          "output_type": "stream",
          "name": "stdout",
          "text": [
            "Верно, что мужчины более склонны к употреблению алкоголя, чем женщины\n"
          ]
        }
      ]
    },
    {
      "cell_type": "markdown",
      "source": [
        "3. Каково различие между процентами курящих мужчин и женщин?"
      ],
      "metadata": {
        "id": "rfI2KQY62w-P"
      }
    },
    {
      "cell_type": "code",
      "source": [
        "df[df['gender'] == 2]['smoke'].value_counts(normalize=True)"
      ],
      "metadata": {
        "trusted": true,
        "id": "INtAbi2c2w-P",
        "colab": {
          "base_uri": "https://localhost:8080/"
        },
        "outputId": "926e39f7-809e-474c-da9e-f5f8cbb47977"
      },
      "execution_count": null,
      "outputs": [
        {
          "output_type": "execute_result",
          "data": {
            "text/plain": [
              "0    0.78112\n",
              "1    0.21888\n",
              "Name: smoke, dtype: float64"
            ]
          },
          "metadata": {},
          "execution_count": 14
        }
      ]
    },
    {
      "cell_type": "code",
      "source": [
        "f_smoke = df[df['gender'] == 1]['smoke'].value_counts(normalize=True).loc[1]\n",
        "f_smoke"
      ],
      "metadata": {
        "trusted": true,
        "id": "kEO29HE-2w-P",
        "colab": {
          "base_uri": "https://localhost:8080/"
        },
        "outputId": "126a41f6-2454-47ac-cda1-0a7c818beb5a"
      },
      "execution_count": null,
      "outputs": [
        {
          "output_type": "execute_result",
          "data": {
            "text/plain": [
              "0.017856358444981332"
            ]
          },
          "metadata": {},
          "execution_count": 15
        }
      ]
    },
    {
      "cell_type": "code",
      "source": [
        "m_smoke = df[df['gender'] == 2]['smoke'].value_counts(normalize=True).loc[1]\n",
        "m_smoke"
      ],
      "metadata": {
        "trusted": true,
        "id": "qg7qHBxd2w-P",
        "colab": {
          "base_uri": "https://localhost:8080/"
        },
        "outputId": "96cb0cca-326b-4940-933d-17ea0bc0d756"
      },
      "execution_count": null,
      "outputs": [
        {
          "output_type": "execute_result",
          "data": {
            "text/plain": [
              "0.21888026154474868"
            ]
          },
          "metadata": {},
          "execution_count": 16
        }
      ]
    },
    {
      "cell_type": "code",
      "source": [
        "print('Pазличие между процентами курящих мужчин и женщин:', str(round(abs(m_smoke - f_smoke)*100, 1))+'%')"
      ],
      "metadata": {
        "trusted": true,
        "id": "chsizOgE2w-Q",
        "colab": {
          "base_uri": "https://localhost:8080/"
        },
        "outputId": "6702536f-cd77-4e48-a497-4c86e0fed95e"
      },
      "execution_count": null,
      "outputs": [
        {
          "output_type": "stream",
          "name": "stdout",
          "text": [
            "Pазличие между процентами курящих мужчин и женщин: 20.1%\n"
          ]
        }
      ]
    },
    {
      "cell_type": "markdown",
      "source": [
        "4. Какова разница между средними значениями возраста для курящих и некурящих?\n"
      ],
      "metadata": {
        "id": "plc41vd72w-Q"
      }
    },
    {
      "cell_type": "code",
      "source": [
        "df[df['smoke'] == 1]['age'].mean()/365"
      ],
      "metadata": {
        "trusted": true,
        "id": "VvTSJDBh2w-Q",
        "colab": {
          "base_uri": "https://localhost:8080/"
        },
        "outputId": "e3cd450d-66d8-4b2a-8be9-e2bd45ac499f"
      },
      "execution_count": null,
      "outputs": [
        {
          "output_type": "execute_result",
          "data": {
            "text/plain": [
              "52.30366281251596"
            ]
          },
          "metadata": {},
          "execution_count": 18
        }
      ]
    },
    {
      "cell_type": "code",
      "source": [
        "df[df['smoke'] == 0]['age'].mean()/365"
      ],
      "metadata": {
        "trusted": true,
        "id": "AJx1KsKS2w-R",
        "colab": {
          "base_uri": "https://localhost:8080/"
        },
        "outputId": "58ded7b0-00a4-4692-f0a4-ba08a14849ae"
      },
      "execution_count": null,
      "outputs": [
        {
          "output_type": "execute_result",
          "data": {
            "text/plain": [
              "53.43945405493917"
            ]
          },
          "metadata": {},
          "execution_count": 19
        }
      ]
    },
    {
      "cell_type": "markdown",
      "source": [
        "Разница между средними значениями возраста для курящих и некурящих: 1 год.\n"
      ],
      "metadata": {
        "id": "3OVRvRox2w-R"
      }
    },
    {
      "cell_type": "markdown",
      "source": [
        "5. Создайте новый признак --- BMI (body mass index, индекс массы тела). Для этого разделите вес в килограммах на квадрат роста в метрах. Считается, что нормальные значения ИМТ составляют от 18.5 до 25. Выберите верные утверждения:\n",
        "\n",
        "    (a) Средний ИМТ находится в диапазоне нормальных значений ИМТ.\n",
        "\n",
        "    (b) ИМТ для женщин в среднем выше, чем для мужчин.\n",
        "\n",
        "    (c) У здоровых людей в среднем более высокий ИМТ, чем у людей с ССЗ.\n",
        "\n",
        "    (d) Для здоровых непьющих мужчин ИМТ ближе к норме, чем для здоровых непьющих женщин\n"
      ],
      "metadata": {
        "id": "efvlNMEE2w-R"
      }
    },
    {
      "cell_type": "code",
      "source": [
        "df['bmi'] = round(df['weight'] / ((df['height']/100)**2), 1)\n",
        "df.head()"
      ],
      "metadata": {
        "trusted": true,
        "id": "-TcjAZQ82w-R",
        "colab": {
          "base_uri": "https://localhost:8080/",
          "height": 206
        },
        "outputId": "be900c12-51b2-43c1-a09b-f7c6a4871d01"
      },
      "execution_count": null,
      "outputs": [
        {
          "output_type": "execute_result",
          "data": {
            "text/plain": [
              "   id    age  gender  height  weight  ap_hi  ap_lo  cholesterol  gluc  smoke  \\\n",
              "0   0  18393       2     168    62.0    110     80            1     1      0   \n",
              "1   1  20228       1     156    85.0    140     90            3     1      0   \n",
              "2   2  18857       1     165    64.0    130     70            3     1      0   \n",
              "3   3  17623       2     169    82.0    150    100            1     1      0   \n",
              "4   4  17474       1     156    56.0    100     60            1     1      0   \n",
              "\n",
              "   alco  active  cardio   bmi  \n",
              "0     0       1       0  22.0  \n",
              "1     0       1       1  34.9  \n",
              "2     0       0       1  23.5  \n",
              "3     0       1       1  28.7  \n",
              "4     0       0       0  23.0  "
            ],
            "text/html": [
              "\n",
              "  <div id=\"df-548eeec0-f91c-4fbf-98be-8c68a671a64a\">\n",
              "    <div class=\"colab-df-container\">\n",
              "      <div>\n",
              "<style scoped>\n",
              "    .dataframe tbody tr th:only-of-type {\n",
              "        vertical-align: middle;\n",
              "    }\n",
              "\n",
              "    .dataframe tbody tr th {\n",
              "        vertical-align: top;\n",
              "    }\n",
              "\n",
              "    .dataframe thead th {\n",
              "        text-align: right;\n",
              "    }\n",
              "</style>\n",
              "<table border=\"1\" class=\"dataframe\">\n",
              "  <thead>\n",
              "    <tr style=\"text-align: right;\">\n",
              "      <th></th>\n",
              "      <th>id</th>\n",
              "      <th>age</th>\n",
              "      <th>gender</th>\n",
              "      <th>height</th>\n",
              "      <th>weight</th>\n",
              "      <th>ap_hi</th>\n",
              "      <th>ap_lo</th>\n",
              "      <th>cholesterol</th>\n",
              "      <th>gluc</th>\n",
              "      <th>smoke</th>\n",
              "      <th>alco</th>\n",
              "      <th>active</th>\n",
              "      <th>cardio</th>\n",
              "      <th>bmi</th>\n",
              "    </tr>\n",
              "  </thead>\n",
              "  <tbody>\n",
              "    <tr>\n",
              "      <th>0</th>\n",
              "      <td>0</td>\n",
              "      <td>18393</td>\n",
              "      <td>2</td>\n",
              "      <td>168</td>\n",
              "      <td>62.0</td>\n",
              "      <td>110</td>\n",
              "      <td>80</td>\n",
              "      <td>1</td>\n",
              "      <td>1</td>\n",
              "      <td>0</td>\n",
              "      <td>0</td>\n",
              "      <td>1</td>\n",
              "      <td>0</td>\n",
              "      <td>22.0</td>\n",
              "    </tr>\n",
              "    <tr>\n",
              "      <th>1</th>\n",
              "      <td>1</td>\n",
              "      <td>20228</td>\n",
              "      <td>1</td>\n",
              "      <td>156</td>\n",
              "      <td>85.0</td>\n",
              "      <td>140</td>\n",
              "      <td>90</td>\n",
              "      <td>3</td>\n",
              "      <td>1</td>\n",
              "      <td>0</td>\n",
              "      <td>0</td>\n",
              "      <td>1</td>\n",
              "      <td>1</td>\n",
              "      <td>34.9</td>\n",
              "    </tr>\n",
              "    <tr>\n",
              "      <th>2</th>\n",
              "      <td>2</td>\n",
              "      <td>18857</td>\n",
              "      <td>1</td>\n",
              "      <td>165</td>\n",
              "      <td>64.0</td>\n",
              "      <td>130</td>\n",
              "      <td>70</td>\n",
              "      <td>3</td>\n",
              "      <td>1</td>\n",
              "      <td>0</td>\n",
              "      <td>0</td>\n",
              "      <td>0</td>\n",
              "      <td>1</td>\n",
              "      <td>23.5</td>\n",
              "    </tr>\n",
              "    <tr>\n",
              "      <th>3</th>\n",
              "      <td>3</td>\n",
              "      <td>17623</td>\n",
              "      <td>2</td>\n",
              "      <td>169</td>\n",
              "      <td>82.0</td>\n",
              "      <td>150</td>\n",
              "      <td>100</td>\n",
              "      <td>1</td>\n",
              "      <td>1</td>\n",
              "      <td>0</td>\n",
              "      <td>0</td>\n",
              "      <td>1</td>\n",
              "      <td>1</td>\n",
              "      <td>28.7</td>\n",
              "    </tr>\n",
              "    <tr>\n",
              "      <th>4</th>\n",
              "      <td>4</td>\n",
              "      <td>17474</td>\n",
              "      <td>1</td>\n",
              "      <td>156</td>\n",
              "      <td>56.0</td>\n",
              "      <td>100</td>\n",
              "      <td>60</td>\n",
              "      <td>1</td>\n",
              "      <td>1</td>\n",
              "      <td>0</td>\n",
              "      <td>0</td>\n",
              "      <td>0</td>\n",
              "      <td>0</td>\n",
              "      <td>23.0</td>\n",
              "    </tr>\n",
              "  </tbody>\n",
              "</table>\n",
              "</div>\n",
              "      <button class=\"colab-df-convert\" onclick=\"convertToInteractive('df-548eeec0-f91c-4fbf-98be-8c68a671a64a')\"\n",
              "              title=\"Convert this dataframe to an interactive table.\"\n",
              "              style=\"display:none;\">\n",
              "        \n",
              "  <svg xmlns=\"http://www.w3.org/2000/svg\" height=\"24px\"viewBox=\"0 0 24 24\"\n",
              "       width=\"24px\">\n",
              "    <path d=\"M0 0h24v24H0V0z\" fill=\"none\"/>\n",
              "    <path d=\"M18.56 5.44l.94 2.06.94-2.06 2.06-.94-2.06-.94-.94-2.06-.94 2.06-2.06.94zm-11 1L8.5 8.5l.94-2.06 2.06-.94-2.06-.94L8.5 2.5l-.94 2.06-2.06.94zm10 10l.94 2.06.94-2.06 2.06-.94-2.06-.94-.94-2.06-.94 2.06-2.06.94z\"/><path d=\"M17.41 7.96l-1.37-1.37c-.4-.4-.92-.59-1.43-.59-.52 0-1.04.2-1.43.59L10.3 9.45l-7.72 7.72c-.78.78-.78 2.05 0 2.83L4 21.41c.39.39.9.59 1.41.59.51 0 1.02-.2 1.41-.59l7.78-7.78 2.81-2.81c.8-.78.8-2.07 0-2.86zM5.41 20L4 18.59l7.72-7.72 1.47 1.35L5.41 20z\"/>\n",
              "  </svg>\n",
              "      </button>\n",
              "      \n",
              "  <style>\n",
              "    .colab-df-container {\n",
              "      display:flex;\n",
              "      flex-wrap:wrap;\n",
              "      gap: 12px;\n",
              "    }\n",
              "\n",
              "    .colab-df-convert {\n",
              "      background-color: #E8F0FE;\n",
              "      border: none;\n",
              "      border-radius: 50%;\n",
              "      cursor: pointer;\n",
              "      display: none;\n",
              "      fill: #1967D2;\n",
              "      height: 32px;\n",
              "      padding: 0 0 0 0;\n",
              "      width: 32px;\n",
              "    }\n",
              "\n",
              "    .colab-df-convert:hover {\n",
              "      background-color: #E2EBFA;\n",
              "      box-shadow: 0px 1px 2px rgba(60, 64, 67, 0.3), 0px 1px 3px 1px rgba(60, 64, 67, 0.15);\n",
              "      fill: #174EA6;\n",
              "    }\n",
              "\n",
              "    [theme=dark] .colab-df-convert {\n",
              "      background-color: #3B4455;\n",
              "      fill: #D2E3FC;\n",
              "    }\n",
              "\n",
              "    [theme=dark] .colab-df-convert:hover {\n",
              "      background-color: #434B5C;\n",
              "      box-shadow: 0px 1px 3px 1px rgba(0, 0, 0, 0.15);\n",
              "      filter: drop-shadow(0px 1px 2px rgba(0, 0, 0, 0.3));\n",
              "      fill: #FFFFFF;\n",
              "    }\n",
              "  </style>\n",
              "\n",
              "      <script>\n",
              "        const buttonEl =\n",
              "          document.querySelector('#df-548eeec0-f91c-4fbf-98be-8c68a671a64a button.colab-df-convert');\n",
              "        buttonEl.style.display =\n",
              "          google.colab.kernel.accessAllowed ? 'block' : 'none';\n",
              "\n",
              "        async function convertToInteractive(key) {\n",
              "          const element = document.querySelector('#df-548eeec0-f91c-4fbf-98be-8c68a671a64a');\n",
              "          const dataTable =\n",
              "            await google.colab.kernel.invokeFunction('convertToInteractive',\n",
              "                                                     [key], {});\n",
              "          if (!dataTable) return;\n",
              "\n",
              "          const docLinkHtml = 'Like what you see? Visit the ' +\n",
              "            '<a target=\"_blank\" href=https://colab.research.google.com/notebooks/data_table.ipynb>data table notebook</a>'\n",
              "            + ' to learn more about interactive tables.';\n",
              "          element.innerHTML = '';\n",
              "          dataTable['output_type'] = 'display_data';\n",
              "          await google.colab.output.renderOutput(dataTable, element);\n",
              "          const docLink = document.createElement('div');\n",
              "          docLink.innerHTML = docLinkHtml;\n",
              "          element.appendChild(docLink);\n",
              "        }\n",
              "      </script>\n",
              "    </div>\n",
              "  </div>\n",
              "  "
            ]
          },
          "metadata": {},
          "execution_count": 20
        }
      ]
    },
    {
      "cell_type": "code",
      "source": [
        "df['bmi'].mean()"
      ],
      "metadata": {
        "trusted": true,
        "id": "GzTAb-VM2w-S",
        "colab": {
          "base_uri": "https://localhost:8080/"
        },
        "outputId": "b0b7fcf6-3c68-43c7-c45d-d0014b32f694"
      },
      "execution_count": null,
      "outputs": [
        {
          "output_type": "execute_result",
          "data": {
            "text/plain": [
              "27.55531142857143"
            ]
          },
          "metadata": {},
          "execution_count": 21
        }
      ]
    },
    {
      "cell_type": "code",
      "source": [
        "f_bmi = df[df['gender'] == 1]['bmi'].mean()\n",
        "f_bmi"
      ],
      "metadata": {
        "trusted": true,
        "id": "dqhjkHRr2w-S",
        "colab": {
          "base_uri": "https://localhost:8080/"
        },
        "outputId": "74b26c52-9862-4e14-bc77-9eee07d5d26a"
      },
      "execution_count": null,
      "outputs": [
        {
          "output_type": "execute_result",
          "data": {
            "text/plain": [
              "27.985772018449378"
            ]
          },
          "metadata": {},
          "execution_count": 22
        }
      ]
    },
    {
      "cell_type": "code",
      "source": [
        "m_bmi = df[df['gender'] == 2]['bmi'].mean()\n",
        "m_bmi"
      ],
      "metadata": {
        "trusted": true,
        "id": "DSt1y3JA2w-S",
        "colab": {
          "base_uri": "https://localhost:8080/"
        },
        "outputId": "fb7f1775-fc48-4406-e040-babfcd99db28"
      },
      "execution_count": null,
      "outputs": [
        {
          "output_type": "execute_result",
          "data": {
            "text/plain": [
              "26.75437678790356"
            ]
          },
          "metadata": {},
          "execution_count": 23
        }
      ]
    },
    {
      "cell_type": "code",
      "source": [
        "cardio_0_bmi = df[df['cardio'] == 0]['bmi'].mean()\n",
        "cardio_0_bmi"
      ],
      "metadata": {
        "trusted": true,
        "id": "broCcs_Q2w-S",
        "colab": {
          "base_uri": "https://localhost:8080/"
        },
        "outputId": "eb981bbd-0f34-4185-84e1-efeb66a28b07"
      },
      "execution_count": null,
      "outputs": [
        {
          "output_type": "execute_result",
          "data": {
            "text/plain": [
              "26.546751948830703"
            ]
          },
          "metadata": {},
          "execution_count": 24
        }
      ]
    },
    {
      "cell_type": "code",
      "source": [
        "cardio_1_bmi = df[df['cardio'] == 1]['bmi'].mean()\n",
        "cardio_1_bmi"
      ],
      "metadata": {
        "trusted": true,
        "id": "Vj-s4EYj2w-S",
        "colab": {
          "base_uri": "https://localhost:8080/"
        },
        "outputId": "282fdc8f-3e28-431b-d61f-53f5be8f66c8"
      },
      "execution_count": null,
      "outputs": [
        {
          "output_type": "execute_result",
          "data": {
            "text/plain": [
              "28.56508190628663"
            ]
          },
          "metadata": {},
          "execution_count": 25
        }
      ]
    },
    {
      "cell_type": "code",
      "source": [
        "f00_bmi = df[(df['gender'] == 1) & (df['cardio'] == 0) & (df['alco'] == 0)]['bmi'].mean()\n",
        "f00_bmi"
      ],
      "metadata": {
        "trusted": true,
        "id": "w2qLLI3W2w-T",
        "colab": {
          "base_uri": "https://localhost:8080/"
        },
        "outputId": "9d36ef97-9e3c-410d-d619-802b90a6ae07"
      },
      "execution_count": null,
      "outputs": [
        {
          "output_type": "execute_result",
          "data": {
            "text/plain": [
              "26.843260791689058"
            ]
          },
          "metadata": {},
          "execution_count": 26
        }
      ]
    },
    {
      "cell_type": "code",
      "source": [
        "m00_bmi = df[(df['gender'] == 2) & (df['cardio'] == 0) & (df['alco'] == 0)]['bmi'].mean()\n",
        "m00_bmi"
      ],
      "metadata": {
        "trusted": true,
        "id": "tk9cZsHI2w-T",
        "colab": {
          "base_uri": "https://localhost:8080/"
        },
        "outputId": "da2d27f0-1d3c-4e5e-f11e-29e5a6e222b0"
      },
      "execution_count": null,
      "outputs": [
        {
          "output_type": "execute_result",
          "data": {
            "text/plain": [
              "25.872804242649796"
            ]
          },
          "metadata": {},
          "execution_count": 27
        }
      ]
    },
    {
      "cell_type": "markdown",
      "source": [
        "Верные утверждения:\n",
        "\n",
        "    (b) ИМТ для женщин в среднем выше, чем для мужчин.\n",
        "\n",
        "    (d) Для здоровых непьющих мужчин ИМТ ближе к норме, чем для здоровых непьющих женщин\n"
      ],
      "metadata": {
        "id": "TcXK-Uay2w-T"
      }
    },
    {
      "cell_type": "markdown",
      "source": [
        "6. Удалите пациентов, у которых диастолическое давление выше систолического. Какой процент от общего количества пациентов они составляли?"
      ],
      "metadata": {
        "id": "Xl5IOtZG2w-U"
      }
    },
    {
      "cell_type": "code",
      "source": [
        "ap_df = df.drop(df[df['ap_lo'] < df['ap_hi']].index)\n",
        "print(str(round((ap_df.shape[0] / df.shape[0])*100, 1))+'%')"
      ],
      "metadata": {
        "trusted": true,
        "id": "O6HBGbv52w-U",
        "colab": {
          "base_uri": "https://localhost:8080/"
        },
        "outputId": "289c3aed-f793-4016-ce1d-9f50fbccd8b5"
      },
      "execution_count": null,
      "outputs": [
        {
          "output_type": "stream",
          "name": "stdout",
          "text": [
            "1.8%\n"
          ]
        }
      ]
    },
    {
      "cell_type": "markdown",
      "source": [
        "7. На сайте Европейского общества кардиологов представлена шкала [SCORE](https://www.escardio.org/static_file/Escardio/Subspecialty/EACPR/Documents/score-charts.pdf). Она используется для расчёта риска смерти от сердечно-сосудистых заболеваний в ближайшие 10 лет. \n",
        "\n",
        "    Рассмотрим верхний правый прямоугольник, который показывает подмножество курящих мужчин в возрасте от 60 до 65 лет (значения по вертикальной оси на рисунке представляют верхнюю границу).\n",
        "\n",
        "    Мы видим значение 9 в левом нижнем углу прямоугольника и 47 в правом верхнем углу. Это означает, что для людей этой возрастной группы с систолическим давлением менее 120 и низким уровнем холестерина риск сердечно-сосудистых заболеваний оценивается примерно в 5 раз ниже, чем для людей с давлением в интервале [160, 180] и высоким уровнем холестерина.\n",
        "\n",
        "    Вычислите аналогичное соотношение для наших данных."
      ],
      "metadata": {
        "id": "7P5pHk0L2w-U"
      }
    },
    {
      "cell_type": "code",
      "source": [
        "cardio_1_65_160_3 = df[(df['age']/365 > 60) & (df['gender'] == 2) & (df['smoke'] == 1) & (df['ap_hi'] > 160) & (df['ap_hi'] < 180) & (df['cholesterol'] == 3) & (df['cardio'] == 1)].shape[0]\n",
        "cardio_1_65_160_3"
      ],
      "metadata": {
        "trusted": true,
        "id": "A_3snvjB2w-V",
        "colab": {
          "base_uri": "https://localhost:8080/"
        },
        "outputId": "99c5dd5e-7fe6-47c7-e8d2-2a908fc482d2"
      },
      "execution_count": null,
      "outputs": [
        {
          "output_type": "execute_result",
          "data": {
            "text/plain": [
              "3"
            ]
          },
          "metadata": {},
          "execution_count": 29
        }
      ]
    },
    {
      "cell_type": "code",
      "source": [
        "cardio_65_160_3 = df[(df['age']/365 > 60) & (df['gender'] == 2) & (df['smoke'] == 1) & (df['ap_hi'] > 160) & (df['ap_hi'] < 180) & (df['cholesterol'] == 3)].shape[0]\n",
        "cardio_65_160_3"
      ],
      "metadata": {
        "trusted": true,
        "id": "gjk7RtPr2w-V",
        "colab": {
          "base_uri": "https://localhost:8080/"
        },
        "outputId": "dc0f30c5-cfb1-4744-cb44-618c4221b1aa"
      },
      "execution_count": null,
      "outputs": [
        {
          "output_type": "execute_result",
          "data": {
            "text/plain": [
              "3"
            ]
          },
          "metadata": {},
          "execution_count": 36
        }
      ]
    },
    {
      "cell_type": "code",
      "source": [
        "risk_cardio_65_160_3 = (cardio_1_65_160_3 / cardio_65_160_3)*100\n",
        "risk_cardio_65_160_3"
      ],
      "metadata": {
        "trusted": true,
        "id": "o6TP9jlv2w-V",
        "colab": {
          "base_uri": "https://localhost:8080/"
        },
        "outputId": "258ac74e-d5c9-407b-9d9e-a2d47570b9e3"
      },
      "execution_count": null,
      "outputs": [
        {
          "output_type": "execute_result",
          "data": {
            "text/plain": [
              "100.0"
            ]
          },
          "metadata": {},
          "execution_count": 37
        }
      ]
    },
    {
      "cell_type": "code",
      "source": [
        "cardio_1_65_120_1 = df[(df['age']/365 > 60) & (df['gender'] == 2) & (df['smoke'] == 1) & (df['ap_hi'] < 120) & (df['cholesterol'] == 1) & (df['cardio'] == 1)].shape[0]\n",
        "cardio_1_65_120_1"
      ],
      "metadata": {
        "trusted": true,
        "id": "2FSLnnmN2w-l",
        "colab": {
          "base_uri": "https://localhost:8080/"
        },
        "outputId": "1174f553-bf2f-4b64-9234-a94cb477f928"
      },
      "execution_count": null,
      "outputs": [
        {
          "output_type": "execute_result",
          "data": {
            "text/plain": [
              "15"
            ]
          },
          "metadata": {},
          "execution_count": 38
        }
      ]
    },
    {
      "cell_type": "code",
      "source": [
        "cardio_65_120_1 = df[(df['age']/365 > 60) & (df['gender'] == 2) & (df['smoke'] == 1) & (df['ap_hi'] < 120) & (df['cholesterol'] == 1)].shape[0]\n",
        "cardio_65_120_1"
      ],
      "metadata": {
        "trusted": true,
        "id": "uHAma8ES2w-l",
        "colab": {
          "base_uri": "https://localhost:8080/"
        },
        "outputId": "b0cdaad9-c658-4af8-837f-d99e6708dac5"
      },
      "execution_count": null,
      "outputs": [
        {
          "output_type": "execute_result",
          "data": {
            "text/plain": [
              "54"
            ]
          },
          "metadata": {},
          "execution_count": 39
        }
      ]
    },
    {
      "cell_type": "code",
      "source": [
        "risk_cardio_65_120_1 = (cardio_1_65_120_1/cardio_65_120_1)*100\n",
        "risk_cardio_65_120_1"
      ],
      "metadata": {
        "trusted": true,
        "id": "44nn1eSp2w-m",
        "colab": {
          "base_uri": "https://localhost:8080/"
        },
        "outputId": "34d1ac74-f6f1-4c67-a2f7-086739c02278"
      },
      "execution_count": null,
      "outputs": [
        {
          "output_type": "execute_result",
          "data": {
            "text/plain": [
              "27.77777777777778"
            ]
          },
          "metadata": {},
          "execution_count": 40
        }
      ]
    },
    {
      "cell_type": "code",
      "source": [
        "risk_cardio_65_160_3/risk_cardio_65_120_1"
      ],
      "metadata": {
        "trusted": true,
        "id": "sHU0aRLM2w-m",
        "colab": {
          "base_uri": "https://localhost:8080/"
        },
        "outputId": "cc7b65d9-7c7e-4d5a-ba0b-d4a638aa87b5"
      },
      "execution_count": null,
      "outputs": [
        {
          "output_type": "execute_result",
          "data": {
            "text/plain": [
              "3.6"
            ]
          },
          "metadata": {},
          "execution_count": 41
        }
      ]
    },
    {
      "cell_type": "markdown",
      "source": [
        "\n",
        "    Для наших данных:\n",
        "    \n",
        "    Для курящих мужчин в возрасте от 60 лет с систолическим давлением менее 120 и низким уровнем холестерина риск сердечно-сосудистых заболеваний оценивается примерно в 3,5 раз ниже, чем для людей с давлением в интервале [160, 180] и высоким уровнем холестерина."
      ],
      "metadata": {
        "id": "jJqWkUGE2w-n"
      }
    },
    {
      "cell_type": "markdown",
      "source": [
        "8. Визуализируйте распределение уровня холестерина для различных возрастных категорий."
      ],
      "metadata": {
        "id": "Ik9JLZTZ2w-n"
      }
    },
    {
      "cell_type": "code",
      "source": [
        "df['age'] = (df['age'] / 365).round()"
      ],
      "metadata": {
        "trusted": true,
        "id": "_s5O1Qk02w-n"
      },
      "execution_count": null,
      "outputs": []
    },
    {
      "cell_type": "code",
      "source": [
        "plt.figure(figsize=(15, 8))\n",
        "sns.countplot(y='age', hue='cholesterol', data=df);"
      ],
      "metadata": {
        "trusted": true,
        "id": "7KeDb_PV2w-n",
        "colab": {
          "base_uri": "https://localhost:8080/",
          "height": 575
        },
        "outputId": "1a35f955-a470-47a1-abf6-0b9f174dff2c"
      },
      "execution_count": null,
      "outputs": [
        {
          "output_type": "display_data",
          "data": {
            "text/plain": [
              "<Figure size 1500x800 with 1 Axes>"
            ],
            "image/png": "[encoded data removed]"
          },
          "metadata": {}
        }
      ]
    },
    {
      "cell_type": "markdown",
      "source": [
        "9. Как распределена переменная BMI? Есть ли выбросы "
      ],
      "metadata": {
        "id": "4-zUHl5a2w-o"
      }
    },
    {
      "cell_type": "code",
      "source": [
        "sns.boxplot(df['bmi']);"
      ],
      "metadata": {
        "trusted": true,
        "id": "Je0PT4gN2w-o",
        "colab": {
          "base_uri": "https://localhost:8080/",
          "height": 434
        },
        "outputId": "bb5279aa-91a3-402f-ce6b-487882f5b9c9"
      },
      "execution_count": null,
      "outputs": [
        {
          "output_type": "display_data",
          "data": {
            "text/plain": [
              "<Figure size 640x480 with 1 Axes>"
            ],
            "image/png": "[encoded data removed]"
          },
          "metadata": {}
        }
      ]
    },
    {
      "cell_type": "markdown",
      "source": [
        "Нормальное распределение. Выбросы есть."
      ],
      "metadata": {
        "id": "whjCY7Kt2w-o"
      }
    },
    {
      "cell_type": "markdown",
      "source": [
        "10. Как соотносятся ИМТ и наличие ССЗ? Придумайте подходящую визуализацию."
      ],
      "metadata": {
        "id": "RQlWkWVq2w-o"
      }
    },
    {
      "cell_type": "code",
      "source": [
        "df.groupby('cardio')['bmi'].mean().plot(kind='bar') \n",
        "plt.ylabel('BMI')\n",
        "plt.show();"
      ],
      "metadata": {
        "trusted": true,
        "id": "ce3Q3iQF2w-p",
        "colab": {
          "base_uri": "https://localhost:8080/",
          "height": 452
        },
        "outputId": "eb86e736-b3fa-43f4-cdec-ca6a59f84d28"
      },
      "execution_count": null,
      "outputs": [
        {
          "output_type": "display_data",
          "data": {
            "text/plain": [
              "<Figure size 640x480 with 1 Axes>"
            ],
            "image/png": "[encoded data removed]"
          },
          "metadata": {}
        }
      ]
    },
    {
      "cell_type": "code",
      "source": [],
      "metadata": {
        "id": "5gVgPcNl4MCL"
      },
      "execution_count": null,
      "outputs": []
    }
  ]
}